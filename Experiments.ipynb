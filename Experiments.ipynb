{
 "cells": [
  {
   "cell_type": "markdown",
   "metadata": {},
   "source": [
    "# Finalized data pipelining and model experimentations\n",
    "\n",
    "We experiment with the data and model."
   ]
  },
  {
   "cell_type": "code",
   "execution_count": 1,
   "metadata": {},
   "outputs": [],
   "source": [
    "import tensorflow as tf\n",
    "import pandas as pd\n",
    "import re\n",
    "import numpy as np\n",
    "from tqdm import tqdm\n",
    "import matplotlib.pyplot as plt\n",
    "%matplotlib inline"
   ]
  },
  {
   "cell_type": "code",
   "execution_count": 2,
   "metadata": {},
   "outputs": [
    {
     "name": "stdout",
     "output_type": "stream",
     "text": [
      "CPU times: user 21.1 s, sys: 1.7 s, total: 22.8 s\n",
      "Wall time: 23.1 s\n"
     ]
    },
    {
     "data": {
      "text/html": [
       "<div>\n",
       "<style scoped>\n",
       "    .dataframe tbody tr th:only-of-type {\n",
       "        vertical-align: middle;\n",
       "    }\n",
       "\n",
       "    .dataframe tbody tr th {\n",
       "        vertical-align: top;\n",
       "    }\n",
       "\n",
       "    .dataframe thead th {\n",
       "        text-align: right;\n",
       "    }\n",
       "</style>\n",
       "<table border=\"1\" class=\"dataframe\">\n",
       "  <thead>\n",
       "    <tr style=\"text-align: right;\">\n",
       "      <th></th>\n",
       "      <th>query</th>\n",
       "      <th>passage_text</th>\n",
       "      <th>label</th>\n",
       "    </tr>\n",
       "  </thead>\n",
       "  <tbody>\n",
       "    <tr>\n",
       "      <th>0</th>\n",
       "      <td>what is a corporation</td>\n",
       "      <td>A company is incorporated in a specific nation...</td>\n",
       "      <td>0</td>\n",
       "    </tr>\n",
       "    <tr>\n",
       "      <th>1</th>\n",
       "      <td>what is a corporation</td>\n",
       "      <td>Today, there is a growing community of more th...</td>\n",
       "      <td>0</td>\n",
       "    </tr>\n",
       "    <tr>\n",
       "      <th>2</th>\n",
       "      <td>what is a corporation</td>\n",
       "      <td>Corporation definition, an association of indi...</td>\n",
       "      <td>0</td>\n",
       "    </tr>\n",
       "    <tr>\n",
       "      <th>3</th>\n",
       "      <td>what is a corporation</td>\n",
       "      <td>Examples of corporation in a Sentence. 1  He w...</td>\n",
       "      <td>0</td>\n",
       "    </tr>\n",
       "    <tr>\n",
       "      <th>4</th>\n",
       "      <td>what is a corporation</td>\n",
       "      <td>1: a government-owned corporation (as a utilit...</td>\n",
       "      <td>0</td>\n",
       "    </tr>\n",
       "  </tbody>\n",
       "</table>\n",
       "</div>"
      ],
      "text/plain": [
       "                   query                                       passage_text  \\\n",
       "0  what is a corporation  A company is incorporated in a specific nation...   \n",
       "1  what is a corporation  Today, there is a growing community of more th...   \n",
       "2  what is a corporation  Corporation definition, an association of indi...   \n",
       "3  what is a corporation  Examples of corporation in a Sentence. 1  He w...   \n",
       "4  what is a corporation  1: a government-owned corporation (as a utilit...   \n",
       "\n",
       "   label  \n",
       "0      0  \n",
       "1      0  \n",
       "2      0  \n",
       "3      0  \n",
       "4      0  "
      ]
     },
     "execution_count": 2,
     "metadata": {},
     "output_type": "execute_result"
    }
   ],
   "source": [
    "%time df = pd.read_csv('data/cleaned_data.csv')\n",
    "df = df.drop(['Unnamed: 0'], axis = 1)\n",
    "\n",
    "df.head()"
   ]
  },
  {
   "cell_type": "markdown",
   "metadata": {},
   "source": [
    "We find the max sizes of the query sentence and the passage sentences"
   ]
  },
  {
   "cell_type": "code",
   "execution_count": 3,
   "metadata": {},
   "outputs": [
    {
     "name": "stderr",
     "output_type": "stream",
     "text": [
      "100%|██████████| 521737/521737 [00:00<00:00, 1000653.25it/s]"
     ]
    },
    {
     "name": "stdout",
     "output_type": "stream",
     "text": [
      "439507\n"
     ]
    },
    {
     "name": "stderr",
     "output_type": "stream",
     "text": [
      "\n"
     ]
    }
   ],
   "source": [
    "query_set = list(set(df['query']))\n",
    "lengths = [len(x) for x in tqdm(query_set)]\n",
    "\n",
    "print(lengths.index(max(lengths)))"
   ]
  },
  {
   "cell_type": "code",
   "execution_count": 4,
   "metadata": {},
   "outputs": [
    {
     "data": {
      "text/plain": [
       "19"
      ]
     },
     "execution_count": 4,
     "metadata": {},
     "output_type": "execute_result"
    }
   ],
   "source": [
    "len(query_set[38430])"
   ]
  },
  {
   "cell_type": "code",
   "execution_count": 5,
   "metadata": {},
   "outputs": [
    {
     "name": "stderr",
     "output_type": "stream",
     "text": [
      "100%|██████████| 4732639/4732639 [00:03<00:00, 1423735.03it/s]\n"
     ]
    },
    {
     "name": "stdout",
     "output_type": "stream",
     "text": [
      "116841\n"
     ]
    }
   ],
   "source": [
    "passage_set = list(set(df['passage_text']))\n",
    "lengths = [len(x) for x in tqdm(passage_set)]\n",
    "print(lengths.index(max(lengths)))"
   ]
  },
  {
   "cell_type": "code",
   "execution_count": 6,
   "metadata": {},
   "outputs": [
    {
     "data": {
      "text/plain": [
       "269"
      ]
     },
     "execution_count": 6,
     "metadata": {},
     "output_type": "execute_result"
    }
   ],
   "source": [
    "len(passage_set[2972819])"
   ]
  },
  {
   "cell_type": "markdown",
   "metadata": {},
   "source": [
    "The max size for a query is **214** and the max size for a passage is **1397**. Based on these findings we provide 0 paddings to the inputs for both the query and the passage embeddings."
   ]
  },
  {
   "cell_type": "markdown",
   "metadata": {},
   "source": [
    "## Fetching the data and forming data pipeline"
   ]
  },
  {
   "cell_type": "code",
   "execution_count": 3,
   "metadata": {},
   "outputs": [],
   "source": [
    "data = df.values"
   ]
  },
  {
   "cell_type": "code",
   "execution_count": 4,
   "metadata": {},
   "outputs": [],
   "source": [
    "d = data[:20]"
   ]
  },
  {
   "cell_type": "code",
   "execution_count": 5,
   "metadata": {},
   "outputs": [],
   "source": [
    "d = d.astype(np.unicode_)"
   ]
  },
  {
   "cell_type": "code",
   "execution_count": 6,
   "metadata": {},
   "outputs": [
    {
     "data": {
      "text/plain": [
       "dtype('<U432')"
      ]
     },
     "execution_count": 6,
     "metadata": {},
     "output_type": "execute_result"
    }
   ],
   "source": [
    "d.dtype"
   ]
  },
  {
   "cell_type": "code",
   "execution_count": 7,
   "metadata": {},
   "outputs": [
    {
     "name": "stdout",
     "output_type": "stream",
     "text": [
      "CPU times: user 484 ms, sys: 196 ms, total: 680 ms\n",
      "Wall time: 681 ms\n"
     ]
    }
   ],
   "source": [
    "with open('embedings/glove.6B.50d.txt','r') as file:\n",
    "    %time embeddings = file.read()\n",
    "e = embeddings.split('\\n')"
   ]
  },
  {
   "cell_type": "code",
   "execution_count": 8,
   "metadata": {},
   "outputs": [
    {
     "data": {
      "text/plain": [
       "['the 0.418 0.24968 -0.41242 0.1217 0.34527 -0.044457 -0.49688 -0.17862 -0.00066023 -0.6566 0.27843 -0.14767 -0.55677 0.14658 -0.0095095 0.011658 0.10204 -0.12792 -0.8443 -0.12181 -0.016801 -0.33279 -0.1552 -0.23131 -0.19181 -1.8823 -0.76746 0.099051 -0.42125 -0.19526 4.0071 -0.18594 -0.52287 -0.31681 0.00059213 0.0074449 0.17778 -0.15897 0.012041 -0.054223 -0.29871 -0.15749 -0.34758 -0.045637 -0.44251 0.18785 0.0027849 -0.18411 -0.11514 -0.78581',\n",
       " ', 0.013441 0.23682 -0.16899 0.40951 0.63812 0.47709 -0.42852 -0.55641 -0.364 -0.23938 0.13001 -0.063734 -0.39575 -0.48162 0.23291 0.090201 -0.13324 0.078639 -0.41634 -0.15428 0.10068 0.48891 0.31226 -0.1252 -0.037512 -1.5179 0.12612 -0.02442 -0.042961 -0.28351 3.5416 -0.11956 -0.014533 -0.1499 0.21864 -0.33412 -0.13872 0.31806 0.70358 0.44858 -0.080262 0.63003 0.32111 -0.46765 0.22786 0.36034 -0.37818 -0.56657 0.044691 0.30392',\n",
       " '. 0.15164 0.30177 -0.16763 0.17684 0.31719 0.33973 -0.43478 -0.31086 -0.44999 -0.29486 0.16608 0.11963 -0.41328 -0.42353 0.59868 0.28825 -0.11547 -0.041848 -0.67989 -0.25063 0.18472 0.086876 0.46582 0.015035 0.043474 -1.4671 -0.30384 -0.023441 0.30589 -0.21785 3.746 0.0042284 -0.18436 -0.46209 0.098329 -0.11907 0.23919 0.1161 0.41705 0.056763 -6.3681e-05 0.068987 0.087939 -0.10285 -0.13931 0.22314 -0.080803 -0.35652 0.016413 0.10216',\n",
       " 'of 0.70853 0.57088 -0.4716 0.18048 0.54449 0.72603 0.18157 -0.52393 0.10381 -0.17566 0.078852 -0.36216 -0.11829 -0.83336 0.11917 -0.16605 0.061555 -0.012719 -0.56623 0.013616 0.22851 -0.14396 -0.067549 -0.38157 -0.23698 -1.7037 -0.86692 -0.26704 -0.2589 0.1767 3.8676 -0.1613 -0.13273 -0.68881 0.18444 0.0052464 -0.33874 -0.078956 0.24185 0.36576 -0.34727 0.28483 0.075693 -0.062178 -0.38988 0.22902 -0.21617 -0.22562 -0.093918 -0.80375',\n",
       " 'to 0.68047 -0.039263 0.30186 -0.17792 0.42962 0.032246 -0.41376 0.13228 -0.29847 -0.085253 0.17118 0.22419 -0.10046 -0.43653 0.33418 0.67846 0.057204 -0.34448 -0.42785 -0.43275 0.55963 0.10032 0.18677 -0.26854 0.037334 -2.0932 0.22171 -0.39868 0.20912 -0.55725 3.8826 0.47466 -0.95658 -0.37788 0.20869 -0.32752 0.12751 0.088359 0.16351 -0.21634 -0.094375 0.018324 0.21048 -0.03088 -0.19722 0.082279 -0.09434 -0.073297 -0.064699 -0.26044']"
      ]
     },
     "execution_count": 8,
     "metadata": {},
     "output_type": "execute_result"
    }
   ],
   "source": [
    "e[:5]"
   ]
  },
  {
   "cell_type": "code",
   "execution_count": 8,
   "metadata": {},
   "outputs": [
    {
     "name": "stderr",
     "output_type": "stream",
     "text": [
      "100%|██████████| 400001/400001 [00:04<00:00, 93697.40it/s]\n",
      "100%|██████████| 400001/400001 [00:03<00:00, 131901.64it/s]\n"
     ]
    }
   ],
   "source": [
    "embeddings = [x.split(' ') for x in tqdm(e)]\n",
    "e = {x[0] : x[1:] for x in tqdm(embeddings)}"
   ]
  },
  {
   "cell_type": "code",
   "execution_count": 9,
   "metadata": {},
   "outputs": [
    {
     "name": "stderr",
     "output_type": "stream",
     "text": [
      "100%|██████████| 400001/400001 [00:08<00:00, 49728.09it/s]"
     ]
    },
    {
     "name": "stdout",
     "output_type": "stream",
     "text": [
      "(0,)\n",
      "\n"
     ]
    },
    {
     "name": "stderr",
     "output_type": "stream",
     "text": [
      "\n"
     ]
    },
    {
     "data": {
      "text/plain": [
       "array([ 4.1800e-01,  2.4968e-01, -4.1242e-01,  1.2170e-01,  3.4527e-01,\n",
       "       -4.4457e-02, -4.9688e-01, -1.7862e-01, -6.6023e-04, -6.5660e-01,\n",
       "        2.7843e-01, -1.4767e-01, -5.5677e-01,  1.4658e-01, -9.5095e-03,\n",
       "        1.1658e-02,  1.0204e-01, -1.2792e-01, -8.4430e-01, -1.2181e-01,\n",
       "       -1.6801e-02, -3.3279e-01, -1.5520e-01, -2.3131e-01, -1.9181e-01,\n",
       "       -1.8823e+00, -7.6746e-01,  9.9051e-02, -4.2125e-01, -1.9526e-01,\n",
       "        4.0071e+00, -1.8594e-01, -5.2287e-01, -3.1681e-01,  5.9213e-04,\n",
       "        7.4449e-03,  1.7778e-01, -1.5897e-01,  1.2041e-02, -5.4223e-02,\n",
       "       -2.9871e-01, -1.5749e-01, -3.4758e-01, -4.5637e-02, -4.4251e-01,\n",
       "        1.8785e-01,  2.7849e-03, -1.8411e-01, -1.1514e-01, -7.8581e-01])"
      ]
     },
     "execution_count": 9,
     "metadata": {},
     "output_type": "execute_result"
    }
   ],
   "source": [
    "#print(e.get)\n",
    "for k, v in tqdm(e.items()):\n",
    "    v = [float(x) for x in v]\n",
    "    v = np.array(v)\n",
    "    try:\n",
    "        v.reshape(50, 1)\n",
    "    except Exception:\n",
    "        print(v.shape)\n",
    "        print(k)\n",
    "    e[k] = v\n",
    "    \n",
    "e['the']"
   ]
  },
  {
   "cell_type": "code",
   "execution_count": 14,
   "metadata": {},
   "outputs": [],
   "source": [
    "def fetch_data(data):\n",
    "    #print(data)\n",
    "    #print(data.shape)\n",
    "    #return 1\n",
    "    query = data[0]\n",
    "    passage = data[1]\n",
    "    return tf.stack((query, passage)), tf.reshape(data[2],(1,))"
   ]
  },
  {
   "cell_type": "code",
   "execution_count": 15,
   "metadata": {},
   "outputs": [],
   "source": [
    "q = tf.constant(d, dtype=tf.string)\n",
    "\n",
    "dataset = tf.data.Dataset.from_tensor_slices(q).map(fetch_data)\n",
    "dataset = dataset.batch(1).repeat()\n",
    "\n",
    "iterator = dataset.make_one_shot_iterator()\n",
    "next_element = iterator.get_next()"
   ]
  },
  {
   "cell_type": "code",
   "execution_count": 17,
   "metadata": {},
   "outputs": [
    {
     "name": "stderr",
     "output_type": "stream",
     "text": [
      "100%|██████████| 1/1 [00:00<00:00, 366.73it/s]"
     ]
    },
    {
     "name": "stdout",
     "output_type": "stream",
     "text": [
      "batch 0\n",
      "(1, 4, 50)\n",
      "(1, 73, 50)\n"
     ]
    },
    {
     "name": "stderr",
     "output_type": "stream",
     "text": [
      "\n"
     ]
    }
   ],
   "source": [
    "with tf.Session() as sess:\n",
    "    #sess.run(tf.global_variable_initializer())\n",
    "    for i in range():\n",
    "        query_em = []; passage_em = []\n",
    "        print('batch ' + str(i))\n",
    "        r = sess.run(next_element)\n",
    "        inputs = r[0]\n",
    "        #print(inputs.shape)\n",
    "        labels = r[1]\n",
    "        for j in tqdm(inputs):\n",
    "            \n",
    "            #print(temp)\n",
    "            #print(str(j[0]))\n",
    "            query = j[0].decode('utf-8').split(' ')\n",
    "            passage = str.lower(j[1].decode('utf-8'))\n",
    "            passage = re.split('\\W+', passage)\n",
    "#             print(passage)\n",
    "#             print(len(passage))\n",
    "#             print(passage[-1])\n",
    "            query_em.append([e[str(x)] for x in query])\n",
    "            embeds = []\n",
    "            for x in passage:\n",
    "                #print('entered loop')\n",
    "                try:\n",
    "                    if(e[x].shape == (50,)):\n",
    "                        em = e[x]\n",
    "                        embeds.append(em)\n",
    "                    #print(len(embeds))\n",
    "                except KeyError:\n",
    "                    #em = np.zeros(shape = (50, 1), dtype = np.float64)\n",
    "                    pass\n",
    "            embeds = np.array(embeds)\n",
    "            #print(type(embeds))\n",
    "            #print()\n",
    "            #print(embeds)\n",
    "#             for q in embeds:\n",
    "#                 print(q.shape)\n",
    "#             print(embeds.shape)\n",
    "#             print(np.array(embeds).shape)\n",
    "            passage_em.append(embeds)\n",
    "            \n",
    "#         print(r)\n",
    "#         print(query_em[0])\n",
    "#         print(passage_em[0])\n",
    "        query_em = np.array(query_em)\n",
    "        passage_em = np.array(passage_em)\n",
    "        print(query_em.shape)\n",
    "        print(passage_em.shape)"
   ]
  },
  {
   "cell_type": "code",
   "execution_count": 15,
   "metadata": {},
   "outputs": [
    {
     "data": {
      "text/plain": [
       "array([[[ 0.21705 ,  0.46515 , -0.46757 , ..., -0.043782,  0.41013 ,\n",
       "          0.1796  ],\n",
       "        [ 0.62583 , -0.57703 ,  0.41163 , ...,  0.21582 , -0.15586 ,\n",
       "          0.64018 ],\n",
       "        [ 0.6185  ,  0.64254 , -0.46552 , ..., -0.27557 ,  0.30899 ,\n",
       "          0.48497 ],\n",
       "        ...,\n",
       "        [ 0.92212 , -0.14503 ,  0.70623 , ...,  0.014533, -0.072347,\n",
       "         -0.29128 ],\n",
       "        [ 0.26358 ,  0.18747 ,  0.044394, ..., -0.42936 ,  0.52879 ,\n",
       "         -0.12598 ],\n",
       "        [ 0.87013 , -0.53648 ,  0.70927 , ...,  0.73918 , -0.11095 ,\n",
       "         -0.083541]]])"
      ]
     },
     "execution_count": 15,
     "metadata": {},
     "output_type": "execute_result"
    }
   ],
   "source": [
    "passage_em"
   ]
  },
  {
   "cell_type": "code",
   "execution_count": 16,
   "metadata": {},
   "outputs": [
    {
     "name": "stdout",
     "output_type": "stream",
     "text": [
      "__________________________________________________________________________________________________\n",
      "Layer (type)                    Output Shape         Param #     Connected to                     \n",
      "==================================================================================================\n",
      "input_1 (InputLayer)            (None, None, 50)     0                                            \n",
      "__________________________________________________________________________________________________\n",
      "input_2 (InputLayer)            (None, None, 50)     0                                            \n",
      "__________________________________________________________________________________________________\n",
      "lstm (LSTM)                     (None, None, 100)    60400       input_1[0][0]                    \n",
      "__________________________________________________________________________________________________\n",
      "lstm_1 (LSTM)                   (None, None, 100)    60400       input_2[0][0]                    \n",
      "__________________________________________________________________________________________________\n",
      "concatenate (Concatenate)       (None, None, 200)    0           lstm[0][0]                       \n",
      "                                                                 lstm_1[0][0]                     \n",
      "__________________________________________________________________________________________________\n",
      "dense (Dense)                   (None, None, 1)      201         concatenate[0][0]                \n",
      "==================================================================================================\n",
      "Total params: 121,001\n",
      "Trainable params: 121,001\n",
      "Non-trainable params: 0\n",
      "__________________________________________________________________________________________________\n"
     ]
    }
   ],
   "source": [
    "inp = tf.keras.Input(shape = (None, 50))\n",
    "inp1 = tf.keras.Input(shape = (None, 50))\n",
    "x = tf.keras.layers.LSTM(100, return_sequences = True)(inp)\n",
    "\n",
    "x1 = tf.keras.layers.LSTM(100, return_sequences = True)(inp1)\n",
    "con = tf.keras.layers.concatenate([x, x1], axis = -1)\n",
    "output = tf.keras.layers.Dense(1, activation = 'sigmoid')(con)\n",
    "model = tf.keras.Model([inp, inp1], output)\n",
    "model.summary()"
   ]
  },
  {
   "cell_type": "code",
   "execution_count": null,
   "metadata": {},
   "outputs": [],
   "source": []
  }
 ],
 "metadata": {
  "kernelspec": {
   "display_name": "Python 3",
   "language": "python",
   "name": "python3"
  },
  "language_info": {
   "codemirror_mode": {
    "name": "ipython",
    "version": 3
   },
   "file_extension": ".py",
   "mimetype": "text/x-python",
   "name": "python",
   "nbconvert_exporter": "python",
   "pygments_lexer": "ipython3",
   "version": "3.6.5"
  }
 },
 "nbformat": 4,
 "nbformat_minor": 2
}
