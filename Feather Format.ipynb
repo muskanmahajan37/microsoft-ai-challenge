{
  "cells": [
    {
      "metadata": {
        "_uuid": "8f2839f25d086af736a60e9eeb907d3b93b6e0e5",
        "_cell_guid": "b1076dfc-b9ad-4769-8c92-a6c4dae69d19",
        "trusted": true
      },
      "cell_type": "code",
      "source": "data_path = \"../input/data.tsv\"",
      "execution_count": 1,
      "outputs": []
    },
    {
      "metadata": {
        "_cell_guid": "79c7e3d0-c299-4dcb-8224-4455121ee9b0",
        "_uuid": "d629ff2d2480ee46fbb7e2d37f6b5fab8052498a",
        "trusted": true
      },
      "cell_type": "code",
      "source": "import os\nimport pandas as pd\nimport warnings\nwarnings.filterwarnings(\"ignore\")",
      "execution_count": 4,
      "outputs": []
    },
    {
      "metadata": {
        "trusted": true,
        "_uuid": "30cd6c0f05d333e36a4facf6e5567a4e148749ac"
      },
      "cell_type": "code",
      "source": "column_names = ['query_id', 'query', 'passage_text', 'label', 'passage_id']\ntypes_dict = {'query_id': 'int32',\n             'query': 'object',\n             'passage_text': 'object',\n             'label': 'int64',\n             'passage_id': 'int64'}",
      "execution_count": 5,
      "outputs": []
    },
    {
      "metadata": {
        "trusted": true,
        "_uuid": "cabbc79e67f24e1afb7123a329433e5ff4c5b998"
      },
      "cell_type": "code",
      "source": "%time the_large_df = pd.read_csv(data_path, sep='\\t', header = None, low_memory  = True, dtype = types_dict, names = column_names)",
      "execution_count": 6,
      "outputs": [
        {
          "output_type": "stream",
          "text": "CPU times: user 29 s, sys: 3.69 s, total: 32.7 s\nWall time: 32.7 s\n",
          "name": "stdout"
        }
      ]
    },
    {
      "metadata": {
        "trusted": true,
        "_uuid": "a1b1fff4e3e1238b4ebe292227dfdc8d07b80aa1"
      },
      "cell_type": "code",
      "source": "the_large_df.info()",
      "execution_count": 7,
      "outputs": [
        {
          "output_type": "stream",
          "text": "<class 'pandas.core.frame.DataFrame'>\nRangeIndex: 5241880 entries, 0 to 5241879\nData columns (total 5 columns):\nquery_id        int32\nquery           object\npassage_text    object\nlabel           int64\npassage_id      int64\ndtypes: int32(1), int64(2), object(2)\nmemory usage: 180.0+ MB\n",
          "name": "stdout"
        }
      ]
    },
    {
      "metadata": {
        "trusted": true,
        "_uuid": "aa3ea6a752fb8cd34e6462b94010a3985581c356"
      },
      "cell_type": "code",
      "source": "the_large_df.head()",
      "execution_count": 8,
      "outputs": [
        {
          "output_type": "execute_result",
          "execution_count": 8,
          "data": {
            "text/plain": "   query_id                     query     ...     label  passage_id\n0         0  . what is a corporation?     ...         0           0\n1         0  . what is a corporation?     ...         0           1\n2         0  . what is a corporation?     ...         0           2\n3         0  . what is a corporation?     ...         0           3\n4         0  . what is a corporation?     ...         0           4\n\n[5 rows x 5 columns]",
            "text/html": "<div>\n<style scoped>\n    .dataframe tbody tr th:only-of-type {\n        vertical-align: middle;\n    }\n\n    .dataframe tbody tr th {\n        vertical-align: top;\n    }\n\n    .dataframe thead th {\n        text-align: right;\n    }\n</style>\n<table border=\"1\" class=\"dataframe\">\n  <thead>\n    <tr style=\"text-align: right;\">\n      <th></th>\n      <th>query_id</th>\n      <th>query</th>\n      <th>passage_text</th>\n      <th>label</th>\n      <th>passage_id</th>\n    </tr>\n  </thead>\n  <tbody>\n    <tr>\n      <th>0</th>\n      <td>0</td>\n      <td>. what is a corporation?</td>\n      <td>A company is incorporated in a specific nation...</td>\n      <td>0</td>\n      <td>0</td>\n    </tr>\n    <tr>\n      <th>1</th>\n      <td>0</td>\n      <td>. what is a corporation?</td>\n      <td>Today, there is a growing community of more th...</td>\n      <td>0</td>\n      <td>1</td>\n    </tr>\n    <tr>\n      <th>2</th>\n      <td>0</td>\n      <td>. what is a corporation?</td>\n      <td>Corporation definition, an association of indi...</td>\n      <td>0</td>\n      <td>2</td>\n    </tr>\n    <tr>\n      <th>3</th>\n      <td>0</td>\n      <td>. what is a corporation?</td>\n      <td>Examples of corporation in a Sentence. 1  He w...</td>\n      <td>0</td>\n      <td>3</td>\n    </tr>\n    <tr>\n      <th>4</th>\n      <td>0</td>\n      <td>. what is a corporation?</td>\n      <td>1: a government-owned corporation (as a utilit...</td>\n      <td>0</td>\n      <td>4</td>\n    </tr>\n  </tbody>\n</table>\n</div>"
          },
          "metadata": {}
        }
      ]
    },
    {
      "metadata": {
        "trusted": true,
        "_uuid": "6a66ae82a95952cb3d22b8e78dc93831fc8b4889"
      },
      "cell_type": "code",
      "source": "os.makedirs('tmp', exist_ok=True) \nthe_large_df.to_feather('./tmp/queries_raw_feather')",
      "execution_count": null,
      "outputs": []
    },
    {
      "metadata": {
        "trusted": true,
        "_uuid": "ea2910e04295218b2215a7938bd1abdb69072048"
      },
      "cell_type": "code",
      "source": "%time the_large_df = pd.read_feather('./tmp/queries_raw_feather')",
      "execution_count": null,
      "outputs": []
    },
    {
      "metadata": {
        "trusted": true,
        "_uuid": "cfd647faee07ef0b61d4f94b0f62b7b14900b0d4"
      },
      "cell_type": "code",
      "source": "",
      "execution_count": null,
      "outputs": []
    }
  ],
  "metadata": {
    "kernelspec": {
      "display_name": "Python 3",
      "language": "python",
      "name": "python3"
    },
    "language_info": {
      "name": "python",
      "version": "3.6.6",
      "mimetype": "text/x-python",
      "codemirror_mode": {
        "name": "ipython",
        "version": 3
      },
      "pygments_lexer": "ipython3",
      "nbconvert_exporter": "python",
      "file_extension": ".py"
    }
  },
  "nbformat": 4,
  "nbformat_minor": 1
}